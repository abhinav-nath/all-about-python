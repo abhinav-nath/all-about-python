{
 "cells": [
  {
   "cell_type": "markdown",
   "metadata": {},
   "source": [
    "### Syntax\n",
    "\n",
    "`if case1:\n",
    "    perform action1\n",
    "elif case2:\n",
    "    perform action2\n",
    "else: \n",
    "    perform action3`"
   ]
  },
  {
   "cell_type": "code",
   "execution_count": 1,
   "metadata": {},
   "outputs": [],
   "source": [
    "fruit = 'mango'\n",
    "\n",
    "if fruit == 'apple':\n",
    "    print('This is an apple')\n",
    "elif fruit == 'banana':\n",
    "    print('This is a banana')\n",
    "else:\n",
    "    print('This is a {}'.format(fruit))"
   ]
  }
 ],
 "metadata": {
  "kernelspec": {
   "display_name": "Python 3",
   "language": "python",
   "name": "python3"
  },
  "language_info": {
   "codemirror_mode": {
    "name": "ipython",
    "version": 3
   },
   "file_extension": ".py",
   "mimetype": "text/x-python",
   "name": "python",
   "nbconvert_exporter": "python",
   "pygments_lexer": "ipython3",
   "version": "3.8.5"
  }
 },
 "nbformat": 4,
 "nbformat_minor": 4
}
