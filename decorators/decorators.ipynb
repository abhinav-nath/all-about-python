{
 "cells": [
  {
   "cell_type": "markdown",
   "id": "36c62562-551c-4040-9160-bc2335c922b4",
   "metadata": {},
   "source": [
    "Everything in Python is an object, even functions are objects and they can be assigned and passed around li"
   ]
  },
  {
   "cell_type": "markdown",
   "id": "5024bb80-d942-4232-8152-e2e563b28f16",
   "metadata": {
    "tags": []
   },
   "source": [
    "#### A function can be assigned in Python:"
   ]
  },
  {
   "cell_type": "code",
   "execution_count": 1,
   "id": "2a92d296-3f56-4edb-bcfe-b49943a9e14b",
   "metadata": {},
   "outputs": [
    {
     "name": "stdout",
     "output_type": "stream",
     "text": [
      "Hello World!\n"
     ]
    }
   ],
   "source": [
    "def greet():\n",
    "    print('Hello World!')\n",
    "\n",
    "func = greet\n",
    "\n",
    "func()"
   ]
  },
  {
   "cell_type": "markdown",
   "id": "95e1b28e-34d7-456a-9086-b199e6cfccfc",
   "metadata": {},
   "source": [
    "## Nested Function\n",
    "\n",
    "We can include one function inside another, known as a nested function."
   ]
  },
  {
   "cell_type": "code",
   "execution_count": 2,
   "id": "e2b08868-1972-400b-850d-571a7574119a",
   "metadata": {},
   "outputs": [
    {
     "name": "stdout",
     "output_type": "stream",
     "text": [
      "11\n"
     ]
    }
   ],
   "source": [
    "def outer(x):\n",
    "    def inner(y):\n",
    "        return x + y\n",
    "    return inner\n",
    "\n",
    "add_five = outer(5)\n",
    "result = add_five(6)\n",
    "\n",
    "print(result)"
   ]
  },
  {
   "cell_type": "markdown",
   "id": "227a20aa-31b4-4ef5-ac48-dbb109f8a617",
   "metadata": {},
   "source": [
    "## Pass Function as an Argument\n",
    "\n",
    "We can pass a function as an argument to another function."
   ]
  },
  {
   "cell_type": "code",
   "execution_count": 3,
   "id": "bebbc4e3-16cd-472b-87a1-27a72d252b79",
   "metadata": {},
   "outputs": [
    {
     "name": "stdout",
     "output_type": "stream",
     "text": [
      "10\n"
     ]
    }
   ],
   "source": [
    "def add(x, y):\n",
    "    return x + y\n",
    "\n",
    "def calculate(func, x, y):\n",
    "    return func(x, y)\n",
    "\n",
    "result = calculate(add, 6, 4)\n",
    "\n",
    "print(result)"
   ]
  },
  {
   "cell_type": "markdown",
   "id": "ca8b7293-6b93-4495-b553-980be9d2cc70",
   "metadata": {},
   "source": [
    "## Return a Function as a Value\n",
    "\n",
    "We can also return a function as a return value."
   ]
  },
  {
   "cell_type": "code",
   "execution_count": 4,
   "id": "3d24da65-85cb-4d24-be44-7a747a6e926e",
   "metadata": {},
   "outputs": [
    {
     "name": "stdout",
     "output_type": "stream",
     "text": [
      "<built-in function print>\n"
     ]
    }
   ],
   "source": [
    "def func1(num):\n",
    "    if num == 0:\n",
    "        return print\n",
    "    else:\n",
    "        return sum\n",
    "\n",
    "func2 = func1(0)\n",
    "print(func2)"
   ]
  },
  {
   "cell_type": "markdown",
   "id": "308d89be-2473-450b-8f7f-3522edc5b755",
   "metadata": {},
   "source": [
    "## Decorators\n",
    "\n",
    "In Python, a decorator is a design pattern that allows you to modify the functionality of a function by wrapping it in another function.\n",
    "\n",
    "The outer function is called the **decorator**, which takes the original function as an argument and returns a modified version of it.\n",
    "\n",
    "Basically, a decorator takes in a function, adds some functionality and returns it."
   ]
  },
  {
   "cell_type": "code",
   "execution_count": 5,
   "id": "3ca78c4e-2303-4f3a-9ded-0ccd63c76096",
   "metadata": {},
   "outputs": [
    {
     "name": "stdout",
     "output_type": "stream",
     "text": [
      "executing now\n",
      "Hello World!\n",
      "executed\n"
     ]
    }
   ],
   "source": [
    "def dec(func):\n",
    "    def exec():\n",
    "        print('executing now')\n",
    "        func()\n",
    "        print('executed')\n",
    "    return exec\n",
    "\n",
    "def greet():\n",
    "    print('Hello World!')\n",
    "\n",
    "greetDec = dec(greet)\n",
    "greetDec()"
   ]
  },
  {
   "cell_type": "markdown",
   "id": "4d40262a-531e-4745-9df1-73d1f81919de",
   "metadata": {},
   "source": [
    "## `@` Symbol With Decorator"
   ]
  },
  {
   "cell_type": "markdown",
   "id": "d738e1ac-2c25-4827-88d6-903b908e5064",
   "metadata": {},
   "source": [
    "Instead of assigning the function call to a variable, Python provides a much more elegant way to achieve this functionality using the `@` symbol."
   ]
  },
  {
   "cell_type": "code",
   "execution_count": 6,
   "id": "e7daae4f-ae79-4bc9-affa-2e323482108d",
   "metadata": {},
   "outputs": [
    {
     "name": "stdout",
     "output_type": "stream",
     "text": [
      "executing now\n",
      "Hello World!\n",
      "executed\n"
     ]
    }
   ],
   "source": [
    "def dec(func):\n",
    "    def exec():\n",
    "        print('executing now')\n",
    "        func()\n",
    "        print('executed')\n",
    "    return exec\n",
    "\n",
    "@dec\n",
    "def greet():\n",
    "    print('Hello World!')\n",
    "\n",
    "greet()"
   ]
  },
  {
   "cell_type": "markdown",
   "id": "66fb5e9e-cec9-4f99-8983-ea801ad915b0",
   "metadata": {},
   "source": [
    "## Decorating Functions with Parameters"
   ]
  },
  {
   "cell_type": "code",
   "execution_count": 7,
   "id": "65eb1b27-18a3-42d2-8221-b13c436a7ba3",
   "metadata": {},
   "outputs": [
    {
     "name": "stdout",
     "output_type": "stream",
     "text": [
      "I am going to divide 10 by 0\n",
      "Oops! Cannot divide by 0\n",
      "I am going to divide 10 by 2\n",
      "5.0\n"
     ]
    }
   ],
   "source": [
    "def smart_divide(func):\n",
    "    def inner(a, b):\n",
    "        print('I am going to divide', a, 'by', b)\n",
    "        if b == 0:\n",
    "            print('Oops! Cannot divide by 0')\n",
    "            return\n",
    "\n",
    "        return func(a, b)\n",
    "    return inner\n",
    "\n",
    "@smart_divide\n",
    "def divide(a, b):\n",
    "    print(a/b)\n",
    "\n",
    "divide(10, 0)\n",
    "\n",
    "divide(10, 2)"
   ]
  },
  {
   "cell_type": "code",
   "execution_count": null,
   "id": "47315bae-04de-4dad-aa55-3096f96aa744",
   "metadata": {},
   "outputs": [],
   "source": []
  }
 ],
 "metadata": {
  "kernelspec": {
   "display_name": "Python 3 (ipykernel)",
   "language": "python",
   "name": "python3"
  },
  "language_info": {
   "codemirror_mode": {
    "name": "ipython",
    "version": 3
   },
   "file_extension": ".py",
   "mimetype": "text/x-python",
   "name": "python",
   "nbconvert_exporter": "python",
   "pygments_lexer": "ipython3",
   "version": "3.11.0"
  }
 },
 "nbformat": 4,
 "nbformat_minor": 5
}
